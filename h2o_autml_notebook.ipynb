{
 "cells": [
  {
   "cell_type": "markdown",
   "id": "45fadd34-8967-4908-88e4-0a5dbbc92a2b",
   "metadata": {},
   "source": [
    "# AutoMl Using H2O"
   ]
  },
  {
   "cell_type": "code",
   "execution_count": 10,
   "id": "352f5d2d-0085-413b-9ae2-fb40df406601",
   "metadata": {},
   "outputs": [],
   "source": [
    "import h2o\n",
    "from h2o.automl import H2OAutoML\n",
    "import pandas as pd"
   ]
  },
  {
   "cell_type": "markdown",
   "id": "9ab47817-e149-42c3-9fa7-c25cfa02efb7",
   "metadata": {},
   "source": [
    "## Load feature engineered CSV"
   ]
  },
  {
   "cell_type": "code",
   "execution_count": 11,
   "id": "55e31987-dc78-400e-8f16-c3af1ba6c191",
   "metadata": {},
   "outputs": [],
   "source": [
    "df = pd.read_csv('/Users/prashantkulkarni/Documents/ml-ops/Assignment-3/athletes_cleaned_feature_engg.csv')"
   ]
  },
  {
   "cell_type": "code",
   "execution_count": 12,
   "id": "0468029b-1b0c-4044-a5ef-3636e4b308e2",
   "metadata": {},
   "outputs": [
    {
     "data": {
      "text/html": [
       "<div>\n",
       "<style scoped>\n",
       "    .dataframe tbody tr th:only-of-type {\n",
       "        vertical-align: middle;\n",
       "    }\n",
       "\n",
       "    .dataframe tbody tr th {\n",
       "        vertical-align: top;\n",
       "    }\n",
       "\n",
       "    .dataframe thead th {\n",
       "        text-align: right;\n",
       "    }\n",
       "</style>\n",
       "<table border=\"1\" class=\"dataframe\">\n",
       "  <thead>\n",
       "    <tr style=\"text-align: right;\">\n",
       "      <th></th>\n",
       "      <th>id</th>\n",
       "      <th>region</th>\n",
       "      <th>gender</th>\n",
       "      <th>age</th>\n",
       "      <th>howlong</th>\n",
       "      <th>backsq_level</th>\n",
       "      <th>deadlift_level</th>\n",
       "      <th>candj_level</th>\n",
       "      <th>snatch_level</th>\n",
       "      <th>strength_score</th>\n",
       "      <th>overall_strength_level</th>\n",
       "      <th>timestamp</th>\n",
       "      <th>total_lift</th>\n",
       "    </tr>\n",
       "  </thead>\n",
       "  <tbody>\n",
       "    <tr>\n",
       "      <th>0</th>\n",
       "      <td>21</td>\n",
       "      <td>Southern California</td>\n",
       "      <td>Male</td>\n",
       "      <td>30.0</td>\n",
       "      <td>1-2 years|</td>\n",
       "      <td>Advanced</td>\n",
       "      <td>Advanced</td>\n",
       "      <td>Advanced</td>\n",
       "      <td>Advanced</td>\n",
       "      <td>3.00</td>\n",
       "      <td>Advanced</td>\n",
       "      <td>2024-11-04 20:46:21.199858</td>\n",
       "      <td>1110.0</td>\n",
       "    </tr>\n",
       "    <tr>\n",
       "      <th>1</th>\n",
       "      <td>22</td>\n",
       "      <td>Africa</td>\n",
       "      <td>Male</td>\n",
       "      <td>28.0</td>\n",
       "      <td>2-4 years|</td>\n",
       "      <td>Intermediate</td>\n",
       "      <td>Intermediate</td>\n",
       "      <td>Intermediate</td>\n",
       "      <td>Intermediate</td>\n",
       "      <td>2.00</td>\n",
       "      <td>Intermediate</td>\n",
       "      <td>2024-11-04 20:46:21.199858</td>\n",
       "      <td>910.0</td>\n",
       "    </tr>\n",
       "    <tr>\n",
       "      <th>2</th>\n",
       "      <td>27</td>\n",
       "      <td>North East</td>\n",
       "      <td>Male</td>\n",
       "      <td>35.0</td>\n",
       "      <td>2-4 years|</td>\n",
       "      <td>Elite</td>\n",
       "      <td>Advanced</td>\n",
       "      <td>Elite</td>\n",
       "      <td>Elite</td>\n",
       "      <td>3.75</td>\n",
       "      <td>Elite</td>\n",
       "      <td>2024-11-04 20:46:21.199858</td>\n",
       "      <td>1335.0</td>\n",
       "    </tr>\n",
       "    <tr>\n",
       "      <th>3</th>\n",
       "      <td>50</td>\n",
       "      <td>North Central</td>\n",
       "      <td>Male</td>\n",
       "      <td>36.0</td>\n",
       "      <td>1-2 years|</td>\n",
       "      <td>Advanced</td>\n",
       "      <td>Elite</td>\n",
       "      <td>Elite</td>\n",
       "      <td>Elite</td>\n",
       "      <td>3.75</td>\n",
       "      <td>Elite</td>\n",
       "      <td>2024-11-04 20:46:21.199858</td>\n",
       "      <td>1354.0</td>\n",
       "    </tr>\n",
       "    <tr>\n",
       "      <th>4</th>\n",
       "      <td>60</td>\n",
       "      <td>North East</td>\n",
       "      <td>Male</td>\n",
       "      <td>36.0</td>\n",
       "      <td>4+ years|</td>\n",
       "      <td>Advanced</td>\n",
       "      <td>Advanced</td>\n",
       "      <td>Advanced</td>\n",
       "      <td>Advanced</td>\n",
       "      <td>3.00</td>\n",
       "      <td>Advanced</td>\n",
       "      <td>2024-11-04 20:46:21.199858</td>\n",
       "      <td>1225.0</td>\n",
       "    </tr>\n",
       "  </tbody>\n",
       "</table>\n",
       "</div>"
      ],
      "text/plain": [
       "   id               region gender   age     howlong  backsq_level  \\\n",
       "0  21  Southern California   Male  30.0  1-2 years|      Advanced   \n",
       "1  22               Africa   Male  28.0  2-4 years|  Intermediate   \n",
       "2  27           North East   Male  35.0  2-4 years|         Elite   \n",
       "3  50        North Central   Male  36.0  1-2 years|      Advanced   \n",
       "4  60           North East   Male  36.0   4+ years|      Advanced   \n",
       "\n",
       "  deadlift_level   candj_level  snatch_level  strength_score  \\\n",
       "0       Advanced      Advanced      Advanced            3.00   \n",
       "1   Intermediate  Intermediate  Intermediate            2.00   \n",
       "2       Advanced         Elite         Elite            3.75   \n",
       "3          Elite         Elite         Elite            3.75   \n",
       "4       Advanced      Advanced      Advanced            3.00   \n",
       "\n",
       "  overall_strength_level                   timestamp  total_lift  \n",
       "0               Advanced  2024-11-04 20:46:21.199858      1110.0  \n",
       "1           Intermediate  2024-11-04 20:46:21.199858       910.0  \n",
       "2                  Elite  2024-11-04 20:46:21.199858      1335.0  \n",
       "3                  Elite  2024-11-04 20:46:21.199858      1354.0  \n",
       "4               Advanced  2024-11-04 20:46:21.199858      1225.0  "
      ]
     },
     "execution_count": 12,
     "metadata": {},
     "output_type": "execute_result"
    }
   ],
   "source": [
    "df.head(5)"
   ]
  },
  {
   "cell_type": "code",
   "execution_count": 13,
   "id": "1a6fce9b-f327-4468-bb66-0731ab79e726",
   "metadata": {},
   "outputs": [],
   "source": [
    "# Drop the specified columns\n",
    "df_cleaned = df.drop(columns=['id', 'region', 'timestamp', 'howlong'])"
   ]
  },
  {
   "cell_type": "markdown",
   "id": "86b2bf34-1ec6-4b09-8e66-918abe784b79",
   "metadata": {},
   "source": [
    "## Initiatize H2O Server"
   ]
  },
  {
   "cell_type": "code",
   "execution_count": 24,
   "id": "857deb37-dd56-48f6-a469-dc4997854aaa",
   "metadata": {},
   "outputs": [
    {
     "name": "stdout",
     "output_type": "stream",
     "text": [
      "Connecting to H2O server at http://35.184.233.137:54321 ... successful.\n"
     ]
    },
    {
     "data": {
      "text/html": [
       "\n",
       "<style>\n",
       "\n",
       "#h2o-table-6.h2o-container {\n",
       "  overflow-x: auto;\n",
       "}\n",
       "#h2o-table-6 .h2o-table {\n",
       "  /* width: 100%; */\n",
       "  margin-top: 1em;\n",
       "  margin-bottom: 1em;\n",
       "}\n",
       "#h2o-table-6 .h2o-table caption {\n",
       "  white-space: nowrap;\n",
       "  caption-side: top;\n",
       "  text-align: left;\n",
       "  /* margin-left: 1em; */\n",
       "  margin: 0;\n",
       "  font-size: larger;\n",
       "}\n",
       "#h2o-table-6 .h2o-table thead {\n",
       "  white-space: nowrap; \n",
       "  position: sticky;\n",
       "  top: 0;\n",
       "  box-shadow: 0 -1px inset;\n",
       "}\n",
       "#h2o-table-6 .h2o-table tbody {\n",
       "  overflow: auto;\n",
       "}\n",
       "#h2o-table-6 .h2o-table th,\n",
       "#h2o-table-6 .h2o-table td {\n",
       "  text-align: right;\n",
       "  /* border: 1px solid; */\n",
       "}\n",
       "#h2o-table-6 .h2o-table tr:nth-child(even) {\n",
       "  /* background: #F5F5F5 */\n",
       "}\n",
       "\n",
       "</style>      \n",
       "<div id=\"h2o-table-6\" class=\"h2o-container\">\n",
       "  <table class=\"h2o-table\">\n",
       "    <caption></caption>\n",
       "    <thead></thead>\n",
       "    <tbody><tr><td>H2O_cluster_uptime:</td>\n",
       "<td>17 mins 42 secs</td></tr>\n",
       "<tr><td>H2O_cluster_timezone:</td>\n",
       "<td>Etc/UTC</td></tr>\n",
       "<tr><td>H2O_data_parsing_timezone:</td>\n",
       "<td>UTC</td></tr>\n",
       "<tr><td>H2O_cluster_version:</td>\n",
       "<td>3.46.0.6</td></tr>\n",
       "<tr><td>H2O_cluster_version_age:</td>\n",
       "<td>1 month and 4 days</td></tr>\n",
       "<tr><td>H2O_cluster_name:</td>\n",
       "<td>admin</td></tr>\n",
       "<tr><td>H2O_cluster_total_nodes:</td>\n",
       "<td>1</td></tr>\n",
       "<tr><td>H2O_cluster_free_memory:</td>\n",
       "<td>3.876 Gb</td></tr>\n",
       "<tr><td>H2O_cluster_total_cores:</td>\n",
       "<td>4</td></tr>\n",
       "<tr><td>H2O_cluster_allowed_cores:</td>\n",
       "<td>4</td></tr>\n",
       "<tr><td>H2O_cluster_status:</td>\n",
       "<td>locked, healthy</td></tr>\n",
       "<tr><td>H2O_connection_url:</td>\n",
       "<td>http://35.184.233.137:54321</td></tr>\n",
       "<tr><td>H2O_connection_proxy:</td>\n",
       "<td>null</td></tr>\n",
       "<tr><td>H2O_internal_security:</td>\n",
       "<td>False</td></tr>\n",
       "<tr><td>Python_version:</td>\n",
       "<td>3.12.1 final</td></tr></tbody>\n",
       "  </table>\n",
       "</div>\n"
      ],
      "text/plain": [
       "--------------------------  ---------------------------\n",
       "H2O_cluster_uptime:         17 mins 42 secs\n",
       "H2O_cluster_timezone:       Etc/UTC\n",
       "H2O_data_parsing_timezone:  UTC\n",
       "H2O_cluster_version:        3.46.0.6\n",
       "H2O_cluster_version_age:    1 month and 4 days\n",
       "H2O_cluster_name:           admin\n",
       "H2O_cluster_total_nodes:    1\n",
       "H2O_cluster_free_memory:    3.876 Gb\n",
       "H2O_cluster_total_cores:    4\n",
       "H2O_cluster_allowed_cores:  4\n",
       "H2O_cluster_status:         locked, healthy\n",
       "H2O_connection_url:         http://35.184.233.137:54321\n",
       "H2O_connection_proxy:       null\n",
       "H2O_internal_security:      False\n",
       "Python_version:             3.12.1 final\n",
       "--------------------------  ---------------------------"
      ]
     },
     "metadata": {},
     "output_type": "display_data"
    },
    {
     "data": {
      "text/plain": [
       "<H2OConnection to http://35.184.233.137:54321, no session>"
      ]
     },
     "execution_count": 24,
     "metadata": {},
     "output_type": "execute_result"
    }
   ],
   "source": [
    "server_address = \"35.184.233.137\"\n",
    "h2o.connect(ip=server_address, port=54321)"
   ]
  },
  {
   "cell_type": "markdown",
   "id": "c954c0d5-dcec-41b0-8a7a-0de74e401323",
   "metadata": {},
   "source": [
    "## Convert Pandaas DF to H2O DF"
   ]
  },
  {
   "cell_type": "code",
   "execution_count": 15,
   "id": "0f9f7dda-3d0e-4ada-a7d1-c886d455e123",
   "metadata": {},
   "outputs": [
    {
     "name": "stdout",
     "output_type": "stream",
     "text": [
      "Parse progress: |████████████████████████████████████████████████████████████████| (done) 100%\n"
     ]
    }
   ],
   "source": [
    "# Convert to H2O frame\n",
    "hf = h2o.H2OFrame(df_cleaned)\n",
    "\n",
    "# Split the data\n",
    "train, valid, test = hf.split_frame([0.7, 0.15], seed=1234)\n",
    "\n"
   ]
  },
  {
   "cell_type": "markdown",
   "id": "f26d1474-0da1-4e6b-af2f-7a6eeca11661",
   "metadata": {},
   "source": [
    "## Identify target and predicting columns"
   ]
  },
  {
   "cell_type": "code",
   "execution_count": 16,
   "id": "5fabcefa-038f-417d-8d10-212dbac0d4c6",
   "metadata": {},
   "outputs": [],
   "source": [
    "# Identify predictors and response\n",
    "y = 'total_lift'\n",
    "x = [col for col in hf.columns if col != y]\n"
   ]
  },
  {
   "cell_type": "markdown",
   "id": "454b8447-3722-44d1-b47c-27d28b62e0b2",
   "metadata": {},
   "source": [
    "## Train Run 1 - Few models first"
   ]
  },
  {
   "cell_type": "code",
   "execution_count": 17,
   "id": "9c23f422-183b-4fcd-991e-87cbcdc3b173",
   "metadata": {},
   "outputs": [
    {
     "name": "stdout",
     "output_type": "stream",
     "text": [
      "AutoML progress: |\n",
      "19:04:50.613: Project: AutoML_1_20241206_190450\n",
      "19:04:50.616: 5-fold cross-validation will be used.\n",
      "19:04:50.616: User specified a validation frame with cross-validation still enabled. Please note that the models will still be validated using cross-validation only, the validation frame will be used to provide purely informative validation metrics on the trained models.\n",
      "19:04:50.617: Setting stopping tolerance adaptively based on the training frame: 0.006879883494287424\n",
      "19:04:50.617: Build control seed: 1234\n",
      "19:04:50.618: training frame: Frame key: AutoML_1_20241206_190450_training_py_9_sid_b71f    cols: 9    rows: 21127  chunks: 1    size: 218795  checksum: -1974911056902571306\n",
      "19:04:50.618: validation frame: Frame key: py_10_sid_b71f    cols: 9    rows: 4404  chunks: 1    size: 49475  checksum: 38257467017593586\n",
      "19:04:50.618: leaderboard frame: NULL\n",
      "19:04:50.619: blending frame: NULL\n",
      "19:04:50.619: response column: total_lift\n",
      "19:04:50.619: fold column: null\n",
      "19:04:50.619: weights column: null\n",
      "19:04:50.641: Loading execution steps: [{XGBoost : [def_2 (1g, 10w), def_1 (2g, 10w), def_3 (3g, 10w), grid_1 (4g, 90w), lr_search (7g, 30w)]}, {GLM : [def_1 (1g, 10w)]}, {DRF : [def_1 (2g, 10w), XRT (3g, 10w)]}, {GBM : [def_5 (1g, 10w), def_2 (2g, 10w), def_3 (2g, 10w), def_4 (2g, 10w), def_1 (3g, 10w), grid_1 (4g, 60w), lr_annealing (7g, 10w)]}, {DeepLearning : [def_1 (3g, 10w), grid_1 (4g, 30w), grid_2 (5g, 30w), grid_3 (5g, 30w)]}, {completion : [resume_best_grids (6g, 60w)]}, {StackedEnsemble : [monotonic (9g, 10w), best_of_family_xglm (10g, 10w), all_xglm (10g, 10w)]}]\n",
      "19:04:50.672: AutoML job created: 2024.12.06 19:04:50.584\n",
      "19:04:50.673: AutoML build started: 2024.12.06 19:04:50.672\n",
      "19:04:50.689: AutoML: starting XGBoost_1_AutoML_1_20241206_190450 model training\n",
      "\n",
      "███\n",
      "19:05:10.683: New leader: XGBoost_1_AutoML_1_20241206_190450, rmse: 56.23249043266932\n",
      "19:05:10.691: AutoML: starting GLM_1_AutoML_1_20241206_190450 model training\n",
      "\n",
      "█\n",
      "19:05:12.681: AutoML: starting GBM_1_AutoML_1_20241206_190450 model training\n",
      "\n",
      "\n",
      "19:05:21.107: New leader: GBM_1_AutoML_1_20241206_190450, rmse: 55.12395237722963\n",
      "19:05:21.109: AutoML: starting XGBoost_2_AutoML_1_20241206_190450 model training\n",
      "\n",
      "██\n",
      "19:05:35.185: AutoML: starting DRF_1_AutoML_1_20241206_190450 model training\n",
      "\n",
      "█\n",
      "19:05:40.412: No base models, due to timeouts or the exclude_algos option. Skipping StackedEnsemble 'monotonic'.\n",
      "19:05:40.424: AutoML: starting StackedEnsemble_BestOfFamily_1_AutoML_1_20241206_190450 model training\n",
      "\n",
      "█\n",
      "19:05:43.66: New leader: StackedEnsemble_BestOfFamily_1_AutoML_1_20241206_190450, rmse: 55.02017135895919\n",
      "19:05:43.68: AutoML: starting StackedEnsemble_AllModels_1_AutoML_1_20241206_190450 model training\n",
      "19:05:45.231: Actual modeling steps: [{XGBoost : [def_2 (1g, 10w)]}, {GLM : [def_1 (1g, 10w)]}, {GBM : [def_5 (1g, 10w)]}, {XGBoost : [def_1 (2g, 10w)]}, {DRF : [def_1 (2g, 10w)]}, {StackedEnsemble : [best_of_family_xglm (10g, 10w), all_xglm (10g, 10w)]}]\n",
      "19:05:45.231: AutoML build stopped: 2024.12.06 19:05:45.231\n",
      "19:05:45.231: AutoML build done: built 5 models\n",
      "19:05:45.231: AutoML duration: 54.559 sec\n",
      "\n",
      "███████████████████████████████████████████████████████| (done) 100%\n",
      "\n",
      "Test Set Performance:\n",
      "ModelMetricsRegressionGLM: stackedensemble\n",
      "** Reported on test data. **\n",
      "\n",
      "MSE: 3176.1056774677077\n",
      "RMSE: 56.35694879487096\n",
      "MAE: 41.220466644055215\n",
      "RMSLE: 0.09531903440286177\n",
      "Mean Residual Deviance: 3176.1056774677077\n",
      "R^2: 0.9599967304701749\n",
      "Null degrees of freedom: 4497\n",
      "Residual degrees of freedom: 4495\n",
      "Null deviance: 357124041.8560961\n",
      "Residual deviance: 14286123.337249748\n",
      "AIC: 49041.99415260711\n",
      "\n",
      "Model Leaderboard:\n",
      "model_id                                                    rmse      mse      mae      rmsle    mean_residual_deviance\n",
      "StackedEnsemble_BestOfFamily_1_AutoML_1_20241206_190450  55.0202  3027.22  40.4986  0.0999801                   3027.22\n",
      "StackedEnsemble_AllModels_1_AutoML_1_20241206_190450     55.0226  3027.48  40.4983  0.0999844                   3027.48\n",
      "GBM_1_AutoML_1_20241206_190450                           55.124   3038.65  40.5752  0.100034                    3038.65\n",
      "DRF_1_AutoML_1_20241206_190450                           55.2813  3056.03  40.6006  0.100267                    3056.03\n",
      "XGBoost_1_AutoML_1_20241206_190450                       56.2325  3162.09  41.4626  0.10141                     3162.09\n",
      "XGBoost_2_AutoML_1_20241206_190450                       56.2842  3167.91  41.3878  0.101474                    3167.91\n",
      "GLM_1_AutoML_1_20241206_190450                           57.2176  3273.86  41.6829  0.103019                    3273.86\n",
      "[7 rows x 6 columns]\n",
      "\n",
      "stackedensemble prediction progress: |███████████████████████████████████████████| (done) 100%\n",
      "\n",
      "Model saved to: /home/admin/h2o/h2o-3.46.0.6/StackedEnsemble_BestOfFamily_1_AutoML_1_20241206_190450\n"
     ]
    }
   ],
   "source": [
    "# Initialize and train AutoML\n",
    "aml = H2OAutoML(\n",
    "    max_models=5,           # Maximum number of models to train\n",
    "    seed=1234,              # For reproducibility\n",
    "    max_runtime_secs=600,   # Maximum time in seconds\n",
    "    sort_metric='rmse',  # Metric to optimize\n",
    "    verbosity='info'        # Level of output detail\n",
    ")\n",
    "\n",
    "# Train AutoML\n",
    "aml.train(x=x, y=y, \n",
    "          training_frame=train,\n",
    "          validation_frame=valid)\n",
    "\n",
    "# Get the best model\n",
    "best_model = aml.leader\n",
    "\n",
    "# Model performance evaluation\n",
    "performance = best_model.model_performance(test)\n",
    "print(\"\\nTest Set Performance:\")\n",
    "print(performance)\n",
    "\n",
    "# Get the leaderboard\n",
    "lb = aml.leaderboard\n",
    "print(\"\\nModel Leaderboard:\")\n",
    "print(lb.head())\n",
    "\n",
    "# Make predictions\n",
    "predictions = best_model.predict(test)\n",
    "\n",
    "# Save the model\n",
    "model_path = h2o.save_model(model=best_model, path=\"./\", force=True)\n",
    "print(f\"\\nModel saved to: {model_path}\")\n",
    "\n",
    "# Code for cloud storage upload\n",
    "\n",
    "# Example of loading the model later\n",
    "loaded_model = h2o.load_model(model_path)"
   ]
  },
  {
   "cell_type": "code",
   "execution_count": 23,
   "id": "73255bcc-0022-433d-9fe3-2a4ae1917ec1",
   "metadata": {},
   "outputs": [
    {
     "name": "stdout",
     "output_type": "stream",
     "text": [
      "Model Details\n",
      "=============\n",
      "H2OStackedEnsembleEstimator : Stacked Ensemble\n",
      "Model Key: StackedEnsemble_BestOfFamily_1_AutoML_1_20241206_190450\n",
      "\n",
      "\n",
      "Model Summary for Stacked Ensemble: \n",
      "key                                   value\n",
      "------------------------------------  ----------------\n",
      "Stacking strategy                     cross_validation\n",
      "Number of base models (used / total)  2/4\n",
      "# GBM base models (used / total)      1/1\n",
      "# XGBoost base models (used / total)  0/1\n",
      "# DRF base models (used / total)      1/1\n",
      "# GLM base models (used / total)      0/1\n",
      "Metalearner algorithm                 GLM\n",
      "Metalearner fold assignment scheme    Random\n",
      "Metalearner nfolds                    5\n",
      "Metalearner fold_column\n",
      "Custom metalearner hyperparameters    None\n",
      "\n",
      "ModelMetricsRegressionGLM: stackedensemble\n",
      "** Reported on train data. **\n",
      "\n",
      "MSE: 2919.2292758697677\n",
      "RMSE: 54.02989242881914\n",
      "MAE: 39.66893537202491\n",
      "RMSLE: 0.1060488973257162\n",
      "Mean Residual Deviance: 2919.2292758697677\n",
      "R^2: 0.9616522192674618\n",
      "Null degrees of freedom: 10028\n",
      "Residual degrees of freedom: 10026\n",
      "Null deviance: 763466720.8882152\n",
      "Residual deviance: 29276950.4076979\n",
      "AIC: 108491.21140954304\n",
      "\n",
      "ModelMetricsRegressionGLM: stackedensemble\n",
      "** Reported on validation data. **\n",
      "\n",
      "MSE: 3295.2545862970787\n",
      "RMSE: 57.40430808133723\n",
      "MAE: 41.18181054195131\n",
      "RMSLE: 0.1136971382066342\n",
      "Mean Residual Deviance: 3295.2545862970787\n",
      "R^2: 0.9569068760928856\n",
      "Null degrees of freedom: 4403\n",
      "Residual degrees of freedom: 4401\n",
      "Null deviance: 336863078.25892377\n",
      "Residual deviance: 14512301.198052336\n",
      "AIC: 48179.46187218079\n",
      "\n",
      "ModelMetricsRegressionGLM: stackedensemble\n",
      "** Reported on cross-validation data. **\n",
      "\n",
      "MSE: 3027.219256369233\n",
      "RMSE: 55.02017135895919\n",
      "MAE: 40.49857292258136\n",
      "RMSLE: 0.09998011304107897\n",
      "Mean Residual Deviance: 3027.219256369233\n",
      "R^2: 0.9605555484315822\n",
      "Null degrees of freedom: 21126\n",
      "Residual degrees of freedom: 21124\n",
      "Null deviance: 1622310527.6862082\n",
      "Residual deviance: 63956061.229312785\n",
      "AIC: 229305.17908801636\n",
      "\n",
      "Cross-Validation Metrics Summary: \n",
      "                        mean         sd           cv_1_valid    cv_2_valid    cv_3_valid    cv_4_valid    cv_5_valid\n",
      "----------------------  -----------  -----------  ------------  ------------  ------------  ------------  ------------\n",
      "aic                     45860.6      506.829      46109.7       45205.3       46124.1       46409.7       45454.3\n",
      "loglikelihood           0            0            0             0             0             0             0\n",
      "mae                     40.493       0.804158     41.408        39.9225       40.0377       41.3264       39.7705\n",
      "mean_residual_deviance  3026.51      190.528      3159.9        2869.69       3074.43       3238.1        2790.4\n",
      "mse                     3026.51      190.528      3159.9        2869.69       3074.43       3238.1        2790.4\n",
      "null_deviance           3.24462e+08  4.98086e+06  3.28747e+08   3.21076e+08   3.23427e+08   3.30375e+08   3.18685e+08\n",
      "r2                      0.960541     0.00210723   0.959327      0.96255       0.959584      0.958243      0.963001\n",
      "residual_deviance       1.27911e+07  863574       1.33696e+07   1.20097e+07   1.30448e+07   1.37587e+07   1.17727e+07\n",
      "rmse                    54.9917      1.73769      56.213        53.5695       55.4476       56.9043       52.8242\n",
      "rmsle                   0.0991278    0.0142267    0.0949542     0.092098      0.122987      0.0996348     0.0859654\n"
     ]
    }
   ],
   "source": [
    "print(best_model)"
   ]
  },
  {
   "cell_type": "code",
   "execution_count": 26,
   "id": "be3aee6f-e16b-4329-989e-eaaa21b0c625",
   "metadata": {},
   "outputs": [
    {
     "name": "stdout",
     "output_type": "stream",
     "text": [
      "H2O's XGBoost is available.\n"
     ]
    }
   ],
   "source": [
    "import h2o\n",
    "from h2o.estimators import H2OXGBoostEstimator\n",
    "\n",
    "# Print version details\n",
    "#print(h2o.cluster().build_info)\n",
    "\n",
    "# Check if XGBoost is available and its version\n",
    "if H2OXGBoostEstimator.available():\n",
    "    print(\"H2O's XGBoost is available.\")\n",
    "else:\n",
    "    print(\"H2O's XGBoost is not available.\")"
   ]
  },
  {
   "cell_type": "markdown",
   "id": "fbe3d8b8-f81b-4d46-a5e7-4b1d30f7e670",
   "metadata": {},
   "source": [
    "## Evaluate the best model"
   ]
  },
  {
   "cell_type": "code",
   "execution_count": 10,
   "id": "9c6f3871-d21c-44fd-90e2-e71b6fb509aa",
   "metadata": {},
   "outputs": [
    {
     "name": "stdout",
     "output_type": "stream",
     "text": [
      "\n",
      "Variable Importance:\n",
      "Warning: This model doesn't have variable importances\n",
      "None\n",
      "stackedensemble prediction progress: |███████████████████████████████████████████| (done) 100%\n",
      "\n",
      "Prediction Preview:\n",
      "  predict\n",
      "  1343.23\n",
      "  1144.97\n",
      "  1261.39\n",
      "  1206.33\n",
      "  1143.32\n",
      "  1265.97\n",
      "  1323.31\n",
      "  1087.78\n",
      "  1346.84\n",
      "  1204.18\n",
      "[10 rows x 1 column]\n",
      "\n",
      "\n",
      "Detailed Performance:\n",
      "ModelMetricsRegressionGLM: stackedensemble\n",
      "** Reported on test data. **\n",
      "\n",
      "MSE: 3165.5102493954787\n",
      "RMSE: 56.26286741177949\n",
      "MAE: 41.24602612408349\n",
      "RMSLE: 0.0952357805075725\n",
      "Mean Residual Deviance: 3165.5102493954787\n",
      "R^2: 0.9601301806157303\n",
      "Null degrees of freedom: 4497\n",
      "Residual degrees of freedom: 4494\n",
      "Null deviance: 357124041.85609573\n",
      "Residual deviance: 14238465.101780863\n",
      "AIC: 49028.96382583724\n"
     ]
    }
   ],
   "source": [
    "# Get the best model\n",
    "best_model = aml.leader\n",
    "\n",
    "# Variable importance\n",
    "print(\"\\nVariable Importance:\")\n",
    "print(best_model.varimp())\n",
    "\n",
    "# Get predictions\n",
    "predictions = best_model.predict(test)\n",
    "print(\"\\nPrediction Preview:\")\n",
    "print(predictions.head())\n",
    "\n",
    "# Detailed performance metrics\n",
    "print(\"\\nDetailed Performance:\")\n",
    "print(best_model.model_performance(test))"
   ]
  },
  {
   "cell_type": "markdown",
   "id": "dc89b813-4347-46ae-9926-f60e961a52b8",
   "metadata": {},
   "source": [
    "## Train Run 2 - Increase the number of models"
   ]
  },
  {
   "cell_type": "code",
   "execution_count": 10,
   "id": "27f9492a-6ca6-4148-ad86-21f85635a9dc",
   "metadata": {},
   "outputs": [],
   "source": [
    "# Improving the model\n",
    "aml = H2OAutoML(\n",
    "    max_models=20,           # Increase number of models\n",
    "    max_runtime_secs=600,    # Give it more time\n",
    "    seed=1,                  # For reproducibility\n",
    "    sort_metric=\"rmse\",      # Explicitly optimize for RMSE\n",
    "    exclude_algos=['GLM']    # exclude poorly performing algorithms\n",
    ")"
   ]
  },
  {
   "cell_type": "code",
   "execution_count": 11,
   "id": "9a74eaa7-f483-481a-8709-ca14fe087e38",
   "metadata": {},
   "outputs": [
    {
     "name": "stdout",
     "output_type": "stream",
     "text": [
      "AutoML progress: |\n",
      "13:15:47.689: User specified a validation frame with cross-validation still enabled. Please note that the models will still be validated using cross-validation only, the validation frame will be used to provide purely informative validation metrics on the trained models.\n",
      "13:15:47.690: AutoML: XGBoost is not available; skipping it.\n",
      "\n",
      "███████████████████████████████████████████████████████████████| (done) 100%\n",
      "\n",
      "Test Set Performance:\n",
      "ModelMetricsRegressionGLM: stackedensemble\n",
      "** Reported on test data. **\n",
      "\n",
      "MSE: 3141.0672683805956\n",
      "RMSE: 56.04522520590488\n",
      "MAE: 41.13910885781035\n",
      "RMSLE: 0.09489890478994263\n",
      "Mean Residual Deviance: 3141.0672683805956\n",
      "R^2: 0.9604380416433363\n",
      "Null degrees of freedom: 4497\n",
      "Residual degrees of freedom: 4493\n",
      "Null deviance: 357124041.85609573\n",
      "Residual deviance: 14128520.573175918\n",
      "AIC: 48996.0970288082\n",
      "\n",
      "Model Leaderboard:\n",
      "model_id                                                    rmse      mse      mae      rmsle    mean_residual_deviance\n",
      "StackedEnsemble_AllModels_1_AutoML_3_20241116_131547     54.8721  3010.95  40.405   0.0998294                   3010.95\n",
      "StackedEnsemble_BestOfFamily_1_AutoML_3_20241116_131547  54.8775  3011.53  40.4147  0.0998264                   3011.53\n",
      "GBM_grid_1_AutoML_3_20241116_131547_model_3              54.8859  3012.46  40.3933  0.0998686                   3012.46\n",
      "GBM_grid_1_AutoML_3_20241116_131547_model_2              54.8873  3012.61  40.3929  0.0997751                   3012.61\n",
      "GBM_grid_1_AutoML_3_20241116_131547_model_4              55.0109  3026.2   40.4631  0.100009                    3026.2\n",
      "GBM_1_AutoML_3_20241116_131547                           55.0922  3035.15  40.5319  0.100025                    3035.15\n",
      "DRF_1_AutoML_3_20241116_131547                           55.1133  3037.47  40.5022  0.100181                    3037.47\n",
      "GBM_grid_1_AutoML_3_20241116_131547_model_1              55.1145  3037.61  40.4938  0.100266                    3037.61\n",
      "GBM_2_AutoML_3_20241116_131547                           55.1863  3045.53  40.5427  0.100337                    3045.53\n",
      "GBM_3_AutoML_3_20241116_131547                           55.2457  3052.08  40.578   0.100393                    3052.08\n",
      "[10 rows x 6 columns]\n",
      "\n",
      "stackedensemble prediction progress: |███████████████████████████████████████████| (done) 100%\n",
      "\n",
      "Model saved to: /Users/prashantkulkarni/Documents/ml-ops/Assignment-3/StackedEnsemble_AllModels_1_AutoML_3_20241116_131547\n"
     ]
    }
   ],
   "source": [
    "# Train AutoML\n",
    "aml.train(x=x, y=y, \n",
    "          training_frame=train,\n",
    "          validation_frame=valid)\n",
    "\n",
    "# Get the best model\n",
    "best_model = aml.leader\n",
    "\n",
    "# Model performance evaluation\n",
    "performance = best_model.model_performance(test)\n",
    "print(\"\\nTest Set Performance:\")\n",
    "print(performance)\n",
    "\n",
    "# Get the leaderboard\n",
    "lb = aml.leaderboard\n",
    "print(\"\\nModel Leaderboard:\")\n",
    "print(lb.head())\n",
    "\n",
    "# Make predictions\n",
    "predictions = best_model.predict(test)\n",
    "\n",
    "# Save the model\n",
    "model_path = h2o.save_model(model=best_model, path=\"./\", force=True)\n",
    "print(f\"\\nModel saved to: {model_path}\")\n",
    "\n",
    "# Example of loading the model later\n",
    "loaded_model = h2o.load_model(model_path)"
   ]
  },
  {
   "cell_type": "markdown",
   "id": "43f817e2-cca3-40b4-932d-d1039a51f376",
   "metadata": {},
   "source": [
    "## Evaluate Run 2"
   ]
  },
  {
   "cell_type": "code",
   "execution_count": 12,
   "id": "5acaff64-1196-4cf2-a2e2-8cbd8f4cfb73",
   "metadata": {},
   "outputs": [
    {
     "name": "stdout",
     "output_type": "stream",
     "text": [
      "\n",
      "Variable Importance:\n",
      "Warning: This model doesn't have variable importances\n",
      "None\n",
      "stackedensemble prediction progress: |███████████████████████████████████████████| (done) 100%\n",
      "\n",
      "Prediction Preview:\n",
      "  predict\n",
      "  1344.08\n",
      "  1143.36\n",
      "  1259.12\n",
      "  1205.62\n",
      "  1143.06\n",
      "  1261.49\n",
      "  1325.01\n",
      "  1090.25\n",
      "  1347.86\n",
      "  1204.78\n",
      "[10 rows x 1 column]\n",
      "\n",
      "\n",
      "Detailed Performance:\n",
      "ModelMetricsRegressionGLM: stackedensemble\n",
      "** Reported on test data. **\n",
      "\n",
      "MSE: 3141.0672683805956\n",
      "RMSE: 56.04522520590488\n",
      "MAE: 41.13910885781035\n",
      "RMSLE: 0.09489890478994263\n",
      "Mean Residual Deviance: 3141.0672683805956\n",
      "R^2: 0.9604380416433363\n",
      "Null degrees of freedom: 4497\n",
      "Residual degrees of freedom: 4493\n",
      "Null deviance: 357124041.85609573\n",
      "Residual deviance: 14128520.573175918\n",
      "AIC: 48996.0970288082\n"
     ]
    }
   ],
   "source": [
    "# Get the best model\n",
    "best_model = aml.leader\n",
    "\n",
    "# Variable importance\n",
    "print(\"\\nVariable Importance:\")\n",
    "print(best_model.varimp())\n",
    "\n",
    "# Get predictions\n",
    "predictions = best_model.predict(test)\n",
    "print(\"\\nPrediction Preview:\")\n",
    "print(predictions.head())\n",
    "\n",
    "# Detailed performance metrics\n",
    "print(\"\\nDetailed Performance:\")\n",
    "print(best_model.model_performance(test))"
   ]
  },
  {
   "cell_type": "markdown",
   "id": "03c9b547-c1e9-4ba9-a3cc-213d7cff5848",
   "metadata": {},
   "source": [
    "# What are the reported top 5 features?\n"
   ]
  },
  {
   "cell_type": "markdown",
   "id": "a8f07fb8-2bf4-44a7-ba69-dfccf6c4c114",
   "metadata": {},
   "source": [
    "Stacked ensemble model doesn't show variable but we will find it for GBM models"
   ]
  },
  {
   "cell_type": "code",
   "execution_count": 16,
   "id": "7f794309-7151-4428-87eb-7e2bbae72d93",
   "metadata": {},
   "outputs": [
    {
     "name": "stdout",
     "output_type": "stream",
     "text": [
      "\n",
      "Using model: GBM_grid_1_AutoML_3_20241116_131547_model_3\n",
      "\n",
      "Variable Importance from GBM:\n",
      "                 variable  relative_importance  scaled_importance  percentage\n",
      "0  overall_strength_level         2.144377e+09           1.000000    0.308988\n",
      "1            backsq_level         1.376511e+09           0.641916    0.198344\n",
      "2          strength_score         1.112510e+09           0.518803    0.160304\n",
      "3          deadlift_level         1.002526e+09           0.467514    0.144456\n",
      "4             candj_level         9.570220e+08           0.446294    0.137899\n",
      "5            snatch_level         2.630932e+08           0.122690    0.037910\n",
      "6                  gender         7.787946e+07           0.036318    0.011222\n",
      "7                     age         6.089222e+06           0.002840    0.000877\n"
     ]
    },
    {
     "name": "stderr",
     "output_type": "stream",
     "text": [
      "/Users/prashantkulkarni/Library/jupyterlab-desktop/envs/local-jupyterlab/lib/python3.12/site-packages/h2o/frame.py:1983: H2ODependencyWarning: Converting H2O frame to pandas dataframe using single-thread.  For faster conversion using multi-thread, install polars and pyarrow and use it as pandas_df = h2o_df.as_data_frame(use_multi_thread=True)\n",
      "\n",
      "  warnings.warn(\"Converting H2O frame to pandas dataframe using single-thread.  For faster conversion using\"\n"
     ]
    },
    {
     "data": {
      "image/png": "[encoded data removed]",
      "text/plain": [
       "<Figure size 1000x600 with 1 Axes>"
      ]
     },
     "metadata": {},
     "output_type": "display_data"
    }
   ],
   "source": [
    "import matplotlib as plt\n",
    "\n",
    "# Get the first GBM model\n",
    "gbm_models = [m for m in aml.leaderboard['model_id'].as_data_frame()['model_id'] if 'GBM' in m]\n",
    "if gbm_models:\n",
    "    gbm_model = gbm_models[0]\n",
    "    print(f\"\\nUsing model: {gbm_model}\")\n",
    "    gbm = h2o.get_model(gbm_model)\n",
    "    print(\"\\nVariable Importance from GBM:\")\n",
    "    print(gbm.varimp(use_pandas=True))\n",
    "else:\n",
    "    print(\"No GBM models found in the leaderboard\")\n",
    "\n",
    "# You can also visualize it\n",
    "import pandas as pd\n",
    "import matplotlib.pyplot as plt\n",
    "\n",
    "# Get variable importance as pandas DataFrame\n",
    "varimp_df = gbm.varimp(use_pandas=True)\n",
    "\n",
    "# Plot\n",
    "plt.figure(figsize=(10, 6))\n",
    "plt.barh(varimp_df['variable'], varimp_df['relative_importance'])\n",
    "plt.title('Variable Importance (GBM)')\n",
    "plt.xlabel('Relative Importance')\n",
    "plt.ylabel('Features')\n",
    "plt.tight_layout()\n",
    "plt.show()"
   ]
  },
  {
   "cell_type": "markdown",
   "id": "f745d768-d66b-4735-9ae7-a47adce437bc",
   "metadata": {},
   "source": [
    "## What are the top 3 models per validation score when using\n",
    "### all features\n",
    "### only the top features (if you have to choose a number put in 3)\n"
   ]
  },
  {
   "cell_type": "code",
   "execution_count": 17,
   "id": "7ef15d2a-a191-4826-8054-2e55e64bb8ee",
   "metadata": {},
   "outputs": [
    {
     "name": "stdout",
     "output_type": "stream",
     "text": [
      "\n",
      "Top 3 Features:\n",
      "                 variable  relative_importance  scaled_importance  percentage\n",
      "0  overall_strength_level         2.144377e+09           1.000000    0.308988\n",
      "1            backsq_level         1.376511e+09           0.641916    0.198344\n",
      "2          strength_score         1.112510e+09           0.518803    0.160304\n",
      "AutoML progress: |\n",
      "13:30:42.590: AutoML: XGBoost is not available; skipping it.\n",
      "\n",
      "███████████████████████████████████████████████████████████████| (done) 100%\n",
      "\n",
      "Leaderboard with Top Features Only:\n",
      "model_id                                                    rmse      mse      mae     rmsle    mean_residual_deviance\n",
      "GBM_1_AutoML_4_20241116_133042                           57.3693  3291.24  42.7238  0.101639                   3291.24\n",
      "StackedEnsemble_AllModels_1_AutoML_4_20241116_133042     57.3841  3292.93  42.7464  0.101637                   3292.93\n",
      "StackedEnsemble_BestOfFamily_1_AutoML_4_20241116_133042  57.3964  3294.34  42.7643  0.101665                   3294.34\n",
      "GBM_3_AutoML_4_20241116_133042                           57.4058  3295.43  42.7552  0.101687                   3295.43\n",
      "GBM_4_AutoML_4_20241116_133042                           57.4129  3296.25  42.7785  0.101656                   3296.25\n",
      "GBM_2_AutoML_4_20241116_133042                           57.4275  3297.92  42.7866  0.101715                   3297.92\n",
      "GBM_5_AutoML_4_20241116_133042                           57.4822  3304.21  42.8399  0.101731                   3304.21\n",
      "GLM_1_AutoML_4_20241116_133042                           59.8449  3581.41  44.2019  0.104684                   3581.41\n",
      "DeepLearning_1_AutoML_4_20241116_133042                  59.9117  3589.41  44.6403  0.104017                   3589.41\n",
      "GBM_grid_1_AutoML_4_20241116_133042_model_1              61.068   3729.31  46.8621  0.104444                   3729.31\n",
      "[12 rows x 6 columns]\n",
      "\n"
     ]
    }
   ],
   "source": [
    "# Get the GBM model\n",
    "gbm_model = h2o.get_model(\"GBM_grid_1_AutoML_3_20241116_131547_model_3\")\n",
    "varimp = gbm_model.varimp(use_pandas=True)\n",
    "print(\"\\nTop 3 Features:\")\n",
    "print(varimp.head(3))\n",
    "\n",
    "# Now run AutoML with only top 3 features\n",
    "top_features = list(varimp['variable'][:3])\n",
    "aml_top_features = H2OAutoML(\n",
    "    max_models=10,\n",
    "    seed=1,\n",
    "    max_runtime_secs=300\n",
    ")\n",
    "\n",
    "# Train with only top features\n",
    "aml_top_features.train(x=top_features, y=y, training_frame=train)\n",
    "\n",
    "print(\"\\nLeaderboard with Top Features Only:\")\n",
    "print(aml_top_features.leaderboard)"
   ]
  },
  {
   "cell_type": "markdown",
   "id": "00a86d8c-f5b1-4e70-99a4-f1bd14f91679",
   "metadata": {},
   "source": [
    "## What are the top 3 models per speed when using\n",
    "### all features\n",
    "### only the top features (if you have to choose a number put in 3)"
   ]
  },
  {
   "cell_type": "markdown",
   "id": "1c842e06-7abf-42d2-95fd-34a18e6152d7",
   "metadata": {},
   "source": [
    "## Train with only top 3 features"
   ]
  },
  {
   "cell_type": "code",
   "execution_count": 19,
   "id": "02d3d356-6085-4714-bc06-4f6de0169f3d",
   "metadata": {},
   "outputs": [
    {
     "name": "stdout",
     "output_type": "stream",
     "text": [
      "AutoML progress: |\n",
      "13:32:58.749: AutoML: XGBoost is not available; skipping it.\n",
      "\n",
      "███████████████████████████████████████████████████████████████| (done) 100%\n",
      "\n",
      "Leaderboard with Top 3 Features:\n",
      "model_id                                                    rmse      mse      mae     rmsle    mean_residual_deviance\n",
      "GBM_1_AutoML_5_20241116_133258                           57.3693  3291.24  42.7238  0.101639                   3291.24\n",
      "StackedEnsemble_AllModels_1_AutoML_5_20241116_133258     57.3924  3293.89  42.7544  0.101651                   3293.89\n",
      "StackedEnsemble_BestOfFamily_1_AutoML_5_20241116_133258  57.3959  3294.29  42.7666  0.101641                   3294.29\n",
      "GBM_3_AutoML_5_20241116_133258                           57.4058  3295.43  42.7552  0.101687                   3295.43\n",
      "GBM_4_AutoML_5_20241116_133258                           57.4129  3296.25  42.7785  0.101656                   3296.25\n",
      "GBM_2_AutoML_5_20241116_133258                           57.4275  3297.92  42.7866  0.101715                   3297.92\n",
      "GBM_5_AutoML_5_20241116_133258                           57.4822  3304.21  42.8399  0.101731                   3304.21\n",
      "GLM_1_AutoML_5_20241116_133258                           59.8449  3581.41  44.2019  0.104684                   3581.41\n",
      "DeepLearning_1_AutoML_5_20241116_133258                  60.95    3714.9   45.1809  0.105945                   3714.9\n",
      "GBM_grid_1_AutoML_5_20241116_133258_model_1              61.068   3729.31  46.8621  0.104444                   3729.31\n",
      "[12 rows x 6 columns]\n",
      "\n",
      "\n",
      "Training time with top features: 8.63 seconds\n"
     ]
    }
   ],
   "source": [
    "# Train with only top 3 features\n",
    "x_top = ['overall_strength_level', 'backsq_level', 'strength_score']\n",
    "\n",
    "aml_top = H2OAutoML(\n",
    "    max_models=10,\n",
    "    seed=1,\n",
    "    max_runtime_secs=300\n",
    ")\n",
    "\n",
    "# Time the training\n",
    "import time\n",
    "start_time = time.time()\n",
    "aml_top.train(x=x_top, y=y, training_frame=train)\n",
    "top_features_time = time.time() - start_time\n",
    "\n",
    "print(\"\\nLeaderboard with Top 3 Features:\")\n",
    "print(aml_top.leaderboard)\n",
    "print(f\"\\nTraining time with top features: {top_features_time:.2f} seconds\")"
   ]
  },
  {
   "cell_type": "markdown",
   "id": "e2c8ea95-9d79-4e51-9919-5819f9fe5700",
   "metadata": {},
   "source": [
    "## Top 3 Models by Validation Score (RMSE - lower is better):\n",
    "A. All Features:\n",
    "\n",
    "* 1st: StackedEnsemble_AllModels (RMSE = 54.87)\n",
    "* 2nd: StackedEnsemble_BestOfFamily (RMSE = 54.88)\n",
    "* 3rd: GBM_grid_model_3 (RMSE = 54.89)\n",
    "\n",
    "B. Top 3 Features Only:\n",
    "\n",
    "* 1st: GBM_1 (RMSE = 57.37)\n",
    "* 2nd: StackedEnsemble_AllModels (RMSE = 57.39)\n",
    "* 3rd: StackedEnsemble_BestOfFamily (RMSE = 57.40)\n",
    "\n",
    "\n",
    "## Performance Impact:\n",
    "\n",
    "* Using all features is better (RMSE 54.87 vs 57.37)\n",
    "* Performance degradation: ~4.6% when using only top 3 features\n",
    "\n",
    "\n",
    "## Model Training Speed:\n",
    "\n",
    "* Top 3 features: 8.63 seconds\n",
    "* Full feature set: Longer \n",
    "\n",
    "\n",
    "\n",
    "## Key Insights:\n",
    "\n",
    "* The reduced feature set trades a 4.6% performance loss for faster training\n",
    "* Model rankings changed - GBM performs better than ensembles with fewer features\n",
    "* The spread between best and worst models is larger with fewer features"
   ]
  },
  {
   "cell_type": "markdown",
   "id": "d3c0a606-8956-428f-8d11-4abe8d35ee0e",
   "metadata": {},
   "source": [
    "## Speed\n",
    "\n",
    "### What are the top 3 models per speed when using\n",
    "* all features\n",
    "* only the top features (if you have to choose a number put in 3)"
   ]
  },
  {
   "cell_type": "code",
   "execution_count": 22,
   "id": "bdd09e9e-1aaf-4b6b-8a61-69ae3058fc33",
   "metadata": {},
   "outputs": [
    {
     "name": "stdout",
     "output_type": "stream",
     "text": [
      "\n",
      "Timing for Top 3 features:\n",
      "glm Model Build progress: |██████████████████████████████████████████████████████| (done) 100%\n",
      "GLM: 0.38 seconds\n",
      "gbm Model Build progress: |██████████████████████████████████████████████████████| (done) 100%\n",
      "GBM: 0.24 seconds\n",
      "drf Model Build progress: |██████████████████████████████████████████████████████| (done) 100%\n",
      "DRF: 0.25 seconds\n",
      "\n",
      "Timing for All features:\n",
      "glm Model Build progress: |██████████████████████████████████████████████████████| (done) 100%\n",
      "GLM: 0.23 seconds\n",
      "gbm Model Build progress: |██████████████████████████████████████████████████████| (done) 100%\n",
      "GBM: 0.23 seconds\n",
      "drf Model Build progress: |██████████████████████████████████████████████████████| (done) 100%\n",
      "DRF: 0.44 seconds\n"
     ]
    }
   ],
   "source": [
    "# Train with timing for each model type\n",
    "import time\n",
    "from h2o.estimators import H2OGeneralizedLinearEstimator\n",
    "from h2o.estimators import H2OGradientBoostingEstimator\n",
    "from h2o.estimators import H2ORandomForestEstimator\n",
    "\n",
    "# For top 3 features\n",
    "x_top = ['overall_strength_level', 'backsq_level', 'strength_score']\n",
    "\n",
    "def time_model_training(model_type, x, y, train_frame):\n",
    "    start_time = time.time()\n",
    "    if model_type == \"GLM\":\n",
    "        model = H2OGeneralizedLinearEstimator()\n",
    "    elif model_type == \"GBM\":\n",
    "        model = H2OGradientBoostingEstimator()\n",
    "    elif model_type == \"DRF\":\n",
    "        model = H2ORandomForestEstimator()\n",
    "    \n",
    "    model.train(x=x, y=y, training_frame=train_frame)\n",
    "    return time.time() - start_time\n",
    "\n",
    "# Time each model type with both feature sets\n",
    "for features in [x_top, x]:\n",
    "    feature_set = \"Top 3\" if len(features) == 3 else \"All\"\n",
    "    print(f\"\\nTiming for {feature_set} features:\")\n",
    "    for model in [\"GLM\", \"GBM\", \"DRF\"]:\n",
    "        train_time = time_model_training(model, features, y, train)\n",
    "        print(f\"{model}: {train_time:.2f} seconds\")"
   ]
  },
  {
   "cell_type": "markdown",
   "id": "1f4f0733-ea7e-4433-85f1-da6546135364",
   "metadata": {},
   "source": [
    "# How does the top models compare to your previously developed model (assignments 1 and 2) in terms of validation score and speed?\n"
   ]
  },
  {
   "cell_type": "markdown",
   "id": "0d668966-95d8-4ea5-b95f-7806a09d73cd",
   "metadata": {},
   "source": [
    "The R2^2 of the model is pretty similar however you can see AutoML favors ensemble model (which isn't a bad idea)"
   ]
  },
  {
   "cell_type": "markdown",
   "id": "c467f4aa-7600-4747-9baa-71d8fcb57ac9",
   "metadata": {},
   "source": [
    "# Is your platform AutoML no-code/low-code/full-code and why?\n"
   ]
  },
  {
   "cell_type": "markdown",
   "id": "7abc0a16-bd45-486a-86f5-b101a8cb3d4f",
   "metadata": {},
   "source": [
    "This is a low code platform as you can see I had to barely write any code."
   ]
  },
  {
   "cell_type": "code",
   "execution_count": null,
   "id": "b5bd4621-e1e2-4b9f-8b2b-da792c1a8b14",
   "metadata": {},
   "outputs": [],
   "source": []
  }
 ],
 "metadata": {
  "kernelspec": {
   "display_name": "Python 3 (ipykernel)",
   "language": "python",
   "name": "python3"
  },
  "language_info": {
   "codemirror_mode": {
    "name": "ipython",
    "version": 3
   },
   "file_extension": ".py",
   "mimetype": "text/x-python",
   "name": "python",
   "nbconvert_exporter": "python",
   "pygments_lexer": "ipython3",
   "version": "3.12.1"
  }
 },
 "nbformat": 4,
 "nbformat_minor": 5
}
